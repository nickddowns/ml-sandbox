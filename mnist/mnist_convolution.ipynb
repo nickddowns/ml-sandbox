{
 "cells": [
  {
   "cell_type": "markdown",
   "source": [
    "--MNIST Dataset--\n",
    "This notebook builds a convolution neural network and trains it using the MNIST dataset. "
   ],
   "metadata": {
    "collapsed": false
   },
   "id": "e749e0c56633ff6"
  },
  {
   "cell_type": "code",
   "outputs": [],
   "source": [
    "import tensorflow as tf\n",
    "import matplotlib.pyplot as plt"
   ],
   "metadata": {
    "collapsed": false
   },
   "id": "89c180c1d42f7f06",
   "execution_count": null
  },
  {
   "cell_type": "markdown",
   "source": [
    "Now get the data from tensorflow lib"
   ],
   "metadata": {
    "collapsed": false
   },
   "id": "69e054fe6698c280"
  },
  {
   "cell_type": "code",
   "outputs": [],
   "source": [
    "(train_img, train_lbl), (test_img, test_lbl) = tf.keras.datasets.mnist.load_data()"
   ],
   "metadata": {
    "collapsed": false
   },
   "id": "c7fe185cb87b5e45",
   "execution_count": null
  },
  {
   "cell_type": "markdown",
   "source": [
    "Normalize data - scale pixels to 0-1 values"
   ],
   "metadata": {
    "collapsed": false
   },
   "id": "ae2b76b446ef04eb"
  },
  {
   "cell_type": "code",
   "outputs": [],
   "source": [
    "train_img = train_img.reshape(60000, 28, 28, 1)\n",
    "train_img = train_img / 255.0\n",
    "test_img = test_img.reshape(10000, 28, 28, 1)\n",
    "test_img = test_img / 255.0"
   ],
   "metadata": {
    "collapsed": false
   },
   "id": "d392d29c68a96961",
   "execution_count": null
  },
  {
   "cell_type": "markdown",
   "source": [
    "Visualize the data"
   ],
   "metadata": {
    "collapsed": false
   },
   "id": "68cd80e58cf92ff4"
  },
  {
   "cell_type": "code",
   "outputs": [],
   "source": [
    "print(train_img.shape)\n",
    "print(test_img.shape)\n",
    "print(train_lbl)\n",
    "\n",
    "plt.imshow(train_img[0], cmap='gray')\n",
    "plt.show()"
   ],
   "metadata": {
    "collapsed": false
   },
   "id": "90f2b1996d5af995",
   "execution_count": null
  },
  {
   "cell_type": "markdown",
   "source": [
    "Now we will define and compile the model"
   ],
   "metadata": {
    "collapsed": false
   },
   "id": "b7e6866028de7581"
  },
  {
   "cell_type": "code",
   "outputs": [],
   "source": [
    "from tensorflow.keras.layers import Flatten, Dense, Conv2D, MaxPool2D\n",
    "from tensorflow.keras.models import Sequential\n",
    "from tensorflow.keras import optimizers\n",
    "\n",
    "# Define model\n",
    "mnist_model = Sequential(\n",
    "    [\n",
    "        Conv2D(32, (3,3), activation='relu', input_shape=(28,28,1)),\n",
    "        MaxPool2D(2,2),\n",
    "        Flatten(),\n",
    "        Dense(128, activation='relu'),\n",
    "        Dense(10, activation='softmax')\n",
    "    ]\n",
    ")\n",
    "\n",
    "# Compile\n",
    "# mnist_model.compile(loss='sparse_categorical_crossentropy',optimizer=optimizers.Adam(), metrics=['accuracy'])\n",
    "mnist_model.compile(loss='sparse_categorical_crossentropy',optimizer=optimizers.Adam(), metrics=['accuracy'])\n",
    "\n",
    "mnist_model.summary()"
   ],
   "metadata": {
    "collapsed": false
   },
   "id": "d3b10a0ff96fd851",
   "execution_count": null
  },
  {
   "cell_type": "markdown",
   "source": [
    "Train the model"
   ],
   "metadata": {
    "collapsed": false
   },
   "id": "31422e34025f2236"
  },
  {
   "cell_type": "code",
   "outputs": [],
   "source": [
    "# Callback for early stopping\n",
    "class myCallback(tf.keras.callbacks.Callback):\n",
    "    def on_epoch_end(self, epoch, logs={}):\n",
    "        if(logs.get('accuracy')>0.99):\n",
    "            print(\"\\nReached 99% accuracy so cancelling training!\")\n",
    "            self.model.stop_training = True\n",
    "\n",
    "# Train\n",
    "mnist_model.fit(train_img, train_lbl, epochs=10, callbacks=[myCallback()])"
   ],
   "metadata": {
    "collapsed": false
   },
   "id": "bb8751616b8b7fc7",
   "execution_count": null
  },
  {
   "cell_type": "markdown",
   "source": [
    "Check model accuracy on the test data"
   ],
   "metadata": {
    "collapsed": false
   },
   "id": "4ad0f67a59af1be8"
  },
  {
   "cell_type": "code",
   "outputs": [],
   "source": [
    "val_loss, val_accuracy = mnist_model.evaluate(test_img, test_lbl)\n",
    "print('Test Accuracy: ', val_accuracy)"
   ],
   "metadata": {
    "collapsed": false
   },
   "id": "89fe01164ff995f0",
   "execution_count": null
  },
  {
   "cell_type": "markdown",
   "source": [
    "We can save the model to use later"
   ],
   "metadata": {
    "collapsed": false
   },
   "id": "2700b9f4c5dcccb7"
  },
  {
   "cell_type": "code",
   "outputs": [],
   "source": [
    "mnist_model.save('mnist_model_convolution')"
   ],
   "metadata": {
    "collapsed": false
   },
   "id": "97591dfc32d2fd2e",
   "execution_count": null
  },
  {
   "cell_type": "markdown",
   "source": [
    "Here's how to load the model we saved"
   ],
   "metadata": {
    "collapsed": false
   },
   "id": "9c6c4a7ab18de89d"
  },
  {
   "cell_type": "code",
   "outputs": [],
   "source": [
    "mnist_model_2 = tf.keras.models.load_model('mnist_model_convolution')"
   ],
   "metadata": {
    "collapsed": false
   },
   "id": "5444beea3026bfc5",
   "execution_count": null
  },
  {
   "cell_type": "markdown",
   "source": [
    "And test the model we loaded to see that the accuracy is what we expect"
   ],
   "metadata": {
    "collapsed": false
   },
   "id": "7563c6343264d1c"
  },
  {
   "cell_type": "code",
   "outputs": [],
   "source": [
    "val_loss2, val_accuracy2 = mnist_model_2.evaluate(test_img, test_lbl)\n",
    "print('Loaded Model Test Accuracy: ', val_accuracy2)"
   ],
   "metadata": {
    "collapsed": false
   },
   "id": "f3b1d0d636902410",
   "execution_count": null
  },
  {
   "cell_type": "code",
   "outputs": [],
   "source": [],
   "metadata": {
    "collapsed": false
   },
   "id": "44d55ff4a1f744d4"
  }
 ],
 "metadata": {
  "kernelspec": {
   "display_name": "Python 3",
   "language": "python",
   "name": "python3"
  },
  "language_info": {
   "codemirror_mode": {
    "name": "ipython",
    "version": 2
   },
   "file_extension": ".py",
   "mimetype": "text/x-python",
   "name": "python",
   "nbconvert_exporter": "python",
   "pygments_lexer": "ipython2",
   "version": "2.7.6"
  }
 },
 "nbformat": 4,
 "nbformat_minor": 5
}
